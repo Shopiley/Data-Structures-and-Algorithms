{
 "cells": [
  {
   "cell_type": "markdown",
   "metadata": {},
   "source": []
  },
  {
   "cell_type": "markdown",
   "metadata": {},
   "source": [
    "Use inductive mathematics for aporoaching DSA problems:\n",
    "-> Solve the questions given with examples - without code; use pen and paper\n",
    "-> Find the pattern\n",
    "-> induce a formular from the attern discovered\n",
    "-> write code\n"
   ]
  },
  {
   "cell_type": "code",
   "execution_count": 1,
   "metadata": {},
   "outputs": [
    {
     "data": {
      "text/plain": [
       "(0, 1)"
      ]
     },
     "execution_count": 1,
     "metadata": {},
     "output_type": "execute_result"
    }
   ],
   "source": [
    "nums = [2,7,11,15]\n",
    "target = 9\n",
    "\n",
    "def twoSum(nums, target):\n",
    "\n",
    "    #get index of the first number\n",
    "    for i in range(0, len(nums)):\n",
    "\n",
    "        #get index of the second\n",
    "        for j in range(0, len(nums)):\n",
    "            if (nums[j] == target - nums[i]):\n",
    "                \n",
    "                #return indices\n",
    "                return (i, j)\n",
    "\n",
    "twoSum(nums, target)"
   ]
  },
  {
   "cell_type": "code",
   "execution_count": 6,
   "metadata": {},
   "outputs": [
    {
     "data": {
      "text/plain": [
       "[2, 3, 4, 1]"
      ]
     },
     "execution_count": 6,
     "metadata": {},
     "output_type": "execute_result"
    }
   ],
   "source": [
    "a = [1, 4, 3, 2]\n",
    "def reverseArray(a):\n",
    "    # Write your code here\n",
    "    n = len(a)\n",
    "    new_a = []\n",
    "    for i in range(n):\n",
    "        temp = a[n-1-i]\n",
    "        new_a.append(temp)\n",
    "    return new_a\n",
    "\n",
    "reverseArray(a)"
   ]
  },
  {
   "cell_type": "code",
   "execution_count": 46,
   "metadata": {},
   "outputs": [
    {
     "data": {
      "text/plain": [
       "[2, 3, 4, 1]"
      ]
     },
     "execution_count": 46,
     "metadata": {},
     "output_type": "execute_result"
    }
   ],
   "source": [
    "import math\n",
    "\n",
    "a = [1, 4, 3, 2]\n",
    "def reverseArray(a):\n",
    "    # Write your code here\n",
    "    #Logic: you want to pick the last, second-to-last etc \n",
    "    #last guy is len(arr)-1 but to continuing moving you have to increment by 1 (len(arr)-1-i) hence, the for loop with i in range(len(a))\n",
    "    #this would have would perfectly if we were creating a new array and appending the elements (gotten in reverse order) to it\n",
    "    #but we are swaping here aka using the same array, so we use range(len(a)/2)\n",
    "    n = len(a)\n",
    "    half = n/2\n",
    "    for i in range(math.ceil(half)):\n",
    "        temp=a[i]\n",
    "        a[i]=a[n-1-i]\n",
    "        a[n-1-i]=temp\n",
    "    return a\n",
    "reverseArray(a)"
   ]
  },
  {
   "cell_type": "code",
   "execution_count": 58,
   "metadata": {},
   "outputs": [
    {
     "data": {
      "text/plain": [
       "15"
      ]
     },
     "execution_count": 58,
     "metadata": {},
     "output_type": "execute_result"
    }
   ],
   "source": [
    "# my code lmao\n",
    "from array import *\n",
    "import math\n",
    "\n",
    "n = 3\n",
    "arr = [[11, 2, 4],[4, 5, 6],[10, 8, -12]]\n",
    "\n",
    "def reverseArray(a):\n",
    "    # Write your code here\n",
    "    n = len(a)\n",
    "    half = n/2\n",
    "    for i in range(math.ceil(half)):\n",
    "        temp=a[i]\n",
    "        a[i]=a[n-1-i]\n",
    "        a[n-1-i]=temp\n",
    "    return a\n",
    "reverseArray(a)\n",
    "\n",
    "def diagonalDifference(arr):\n",
    "    # Write your code here\n",
    "    left_diagonal = 0\n",
    "    right_diagonal = 0\n",
    "    for i in range(len(arr)):\n",
    "        for j in range(len(arr[i])):\n",
    "            if i == j:\n",
    "                left_diagonal += arr[i][j]\n",
    "    for i in range(len(arr)-1, -1, -1):\n",
    "        reverseArray(arr[i])\n",
    "        for j in range(len(arr[i])):\n",
    "            if i == j:\n",
    "                right_diagonal += arr[i][j]\n",
    "    return (abs(left_diagonal - right_diagonal))\n",
    "            \n",
    "\n",
    "diagonalDifference(arr)\n"
   ]
  },
  {
   "cell_type": "code",
   "execution_count": 57,
   "metadata": {},
   "outputs": [
    {
     "data": {
      "text/plain": [
       "15"
      ]
     },
     "execution_count": 57,
     "metadata": {},
     "output_type": "execute_result"
    }
   ],
   "source": [
    "#from discussions\n",
    "n = 3\n",
    "arr = [[11, 2, 4],[4, 5, 6],[10, 8, -12]]\n",
    "\n",
    "def diagonalDifference(arr):\n",
    "    # Write your code here\n",
    "    L = 0\n",
    "    R = 0\n",
    "    \n",
    "    for i in range(0, len(arr)):\n",
    "        L += arr[i][i]\n",
    "        R += arr[i][len(arr)-i-1]\n",
    "    \n",
    "    return abs(L-R)\n",
    "\n",
    "diagonalDifference(arr)"
   ]
  },
  {
   "cell_type": "code",
   "execution_count": 17,
   "metadata": {},
   "outputs": [
    {
     "name": "stdout",
     "output_type": "stream",
     "text": [
      "{10: [10, 10, 10, 10], 20: [20, 20, 20], 30: [30], 50: [50]}\n",
      "2\n",
      "1\n",
      "0\n",
      "0\n",
      "3\n"
     ]
    }
   ],
   "source": [
    "import math\n",
    "n = 9\n",
    "ar = [10, 20, 20, 10, 10, 30, 50, 10, 20]\n",
    "def sockMerchant(n, ar):\n",
    "    # Write your code here\n",
    "    sum = 0\n",
    "    color_dict = {}\n",
    "    for i in ar:\n",
    "        if i in color_dict:\n",
    "            color_dict[i].append(i)\n",
    "        else:\n",
    "            color_dict[i] = [i]\n",
    "    print(color_dict)\n",
    "    for i in color_dict:\n",
    "        pairs = math.floor(len(color_dict[i]) / 2 )\n",
    "        sum += pairs\n",
    "    return sum\n",
    "\n",
    "sockMerchant(n, ar)"
   ]
  },
  {
   "cell_type": "code",
   "execution_count": 23,
   "metadata": {},
   "outputs": [
    {
     "ename": "IndexError",
     "evalue": "list index out of range",
     "output_type": "error",
     "traceback": [
      "\u001b[1;31m---------------------------------------------------------------------------\u001b[0m",
      "\u001b[1;31mIndexError\u001b[0m                                Traceback (most recent call last)",
      "\u001b[1;32m<ipython-input-23-b28b8b284f4e>\u001b[0m in \u001b[0;36m<module>\u001b[1;34m\u001b[0m\n\u001b[0;32m     24\u001b[0m     \u001b[1;31m# return min(paths)\u001b[0m\u001b[1;33m\u001b[0m\u001b[1;33m\u001b[0m\u001b[1;33m\u001b[0m\u001b[0m\n\u001b[0;32m     25\u001b[0m \u001b[1;33m\u001b[0m\u001b[0m\n\u001b[1;32m---> 26\u001b[1;33m \u001b[0mjumpingOnClouds\u001b[0m\u001b[1;33m(\u001b[0m\u001b[0mc\u001b[0m\u001b[1;33m)\u001b[0m\u001b[1;33m\u001b[0m\u001b[1;33m\u001b[0m\u001b[0m\n\u001b[0m",
      "\u001b[1;32m<ipython-input-23-b28b8b284f4e>\u001b[0m in \u001b[0;36mjumpingOnClouds\u001b[1;34m(c)\u001b[0m\n\u001b[0;32m     14\u001b[0m             \u001b[1;32mcontinue\u001b[0m\u001b[1;33m\u001b[0m\u001b[1;33m\u001b[0m\u001b[0m\n\u001b[0;32m     15\u001b[0m         \u001b[1;32mif\u001b[0m \u001b[0mc\u001b[0m\u001b[1;33m[\u001b[0m\u001b[0mi\u001b[0m\u001b[1;33m]\u001b[0m \u001b[1;33m==\u001b[0m \u001b[1;36m0\u001b[0m\u001b[1;33m:\u001b[0m\u001b[1;33m\u001b[0m\u001b[1;33m\u001b[0m\u001b[0m\n\u001b[1;32m---> 16\u001b[1;33m             \u001b[1;32mif\u001b[0m \u001b[0mc\u001b[0m\u001b[1;33m[\u001b[0m\u001b[0mi\u001b[0m\u001b[1;33m+\u001b[0m\u001b[1;36m2\u001b[0m\u001b[1;33m]\u001b[0m \u001b[1;33m==\u001b[0m \u001b[1;36m0\u001b[0m\u001b[1;33m:\u001b[0m\u001b[1;33m\u001b[0m\u001b[1;33m\u001b[0m\u001b[0m\n\u001b[0m\u001b[0;32m     17\u001b[0m                 \u001b[0mi\u001b[0m \u001b[1;33m+=\u001b[0m \u001b[1;36m2\u001b[0m\u001b[1;33m\u001b[0m\u001b[1;33m\u001b[0m\u001b[0m\n\u001b[0;32m     18\u001b[0m             \u001b[1;32melse\u001b[0m\u001b[1;33m:\u001b[0m\u001b[1;33m\u001b[0m\u001b[1;33m\u001b[0m\u001b[0m\n",
      "\u001b[1;31mIndexError\u001b[0m: list index out of range"
     ]
    }
   ],
   "source": [
    "n = 7\n",
    "c = [0, 0, 1, 0, 0, 1, 0]\n",
    "#answer = 4\n",
    "\n",
    "def jumpingOnClouds(c):\n",
    "    # Write your code here\n",
    "    # skip 1\n",
    "    # jump either +1 or +2\n",
    "    # find min length\n",
    "    path = 0\n",
    "    paths = []\n",
    "    for i in range(len(c)):\n",
    "        if c[i] == 1:\n",
    "            continue\n",
    "        if c[i] == 0:\n",
    "            if c[i+2] == 0:\n",
    "                i += 2\n",
    "            else:\n",
    "                i += 1\n",
    "            path += 1\n",
    "    print (path)\n",
    "    #     paths.append(path)\n",
    "    #     print (path)\n",
    "    # return min(paths)\n",
    "\n",
    "jumpingOnClouds(c)"
   ]
  },
  {
   "cell_type": "code",
   "execution_count": 1,
   "metadata": {},
   "outputs": [
    {
     "name": "stdout",
     "output_type": "stream",
     "text": [
      "abaabaabaaba\n"
     ]
    },
    {
     "data": {
      "text/plain": [
       "7"
      ]
     },
     "execution_count": 1,
     "metadata": {},
     "output_type": "execute_result"
    }
   ],
   "source": [
    "s = 'aba'\n",
    "n = 10\n",
    "def repeatedString(s, n):\n",
    "    # repeat string till there are n letters\n",
    "    # count('a')\n",
    "    if s == 'a':\n",
    "        return n\n",
    "    else:\n",
    "        while (len(s) < n):\n",
    "            s += s\n",
    "        print (s)\n",
    "        return s[0:n].count('a')\n",
    "repeatedString(s, n)"
   ]
  },
  {
   "cell_type": "code",
   "execution_count": 3,
   "metadata": {},
   "outputs": [
    {
     "name": "stdout",
     "output_type": "stream",
     "text": [
      "[4, 3, 2, 1]\n",
      "1\n"
     ]
    }
   ],
   "source": [
    "gfg = [1, 2, 3, 4]\n",
    "print(gfg[::-1])\n",
    "\n",
    "print(3//2)"
   ]
  },
  {
   "cell_type": "code",
   "execution_count": 8,
   "metadata": {},
   "outputs": [
    {
     "name": "stdout",
     "output_type": "stream",
     "text": [
      "Current variable value : 9\n",
      "Current variable value : 8\n",
      "Current variable value : 7\n",
      "Current variable value : 6\n",
      "Current variable value : 4\n",
      "Current variable value : 3\n",
      "Current variable value : 2\n",
      "Current variable value : 1\n",
      "Current variable value : 0\n",
      "Good bye!\n"
     ]
    }
   ],
   "source": [
    "var = 10                    # Second Example\n",
    "while var > 0: \n",
    "    var = var -1             \n",
    "    if var == 5:\n",
    "        continue\n",
    "    print ('Current variabile value :', var)\n",
    "print (\"Good bye!\")"
   ]
  },
  {
   "cell_type": "code",
   "execution_count": 10,
   "metadata": {},
   "outputs": [
    {
     "name": "stdout",
     "output_type": "stream",
     "text": [
      "[[], [], []]\n"
     ]
    }
   ],
   "source": [
    "arr = []\n",
    "lastAnswer = 0\n",
    "n = 3\n",
    "for i in range(n):\n",
    "    arr.append([])\n",
    "\n",
    "print(arr)"
   ]
  },
  {
   "cell_type": "code",
   "execution_count": 16,
   "metadata": {},
   "outputs": [
    {
     "name": "stdout",
     "output_type": "stream",
     "text": [
      "[1, 2, 3]\n"
     ]
    }
   ],
   "source": [
    "a = 123\n",
    "b = [ int(x) for x in str(a)]\n",
    "\n",
    "print(b)"
   ]
  },
  {
   "cell_type": "markdown",
   "metadata": {},
   "source": [
    "Bloomberg Africa Initiative"
   ]
  },
  {
   "cell_type": "code",
   "execution_count": 18,
   "metadata": {},
   "outputs": [
    {
     "name": "stdout",
     "output_type": "stream",
     "text": [
      "10\n"
     ]
    }
   ],
   "source": [
    "arr1 = [1234, 4321]\n",
    "arr2 = [2345, 3214]\n",
    "def minimumMoves(arr1, arr2):\n",
    "    # Write your code here\n",
    "    n = len(arr1)\n",
    "    moves = 0\n",
    "    for i in range(n):\n",
    "        if arr1[i] == arr2[i]:\n",
    "            moves += 0\n",
    "        else:\n",
    "            a = [ int(x) for x in str(arr1[i])]\n",
    "            b = [ int(x) for x in str(arr2[i])]\n",
    "            for i in range(len(a)):\n",
    "                moves += abs(a[i] - b[i])\n",
    "    print( moves)\n",
    "\n",
    "minimumMoves(arr1, arr2)"
   ]
  },
  {
   "cell_type": "code",
   "execution_count": 34,
   "metadata": {},
   "outputs": [
    {
     "name": "stdout",
     "output_type": "stream",
     "text": [
      "[3, 0, 8, 9]\n"
     ]
    }
   ],
   "source": [
    "#not working properly \n",
    "\n",
    "teamA = [2, 10, 5, 4, 8, 2, 3, 4, 5, 7]\n",
    "teamB = [3, 1, 7, 8]\n",
    "def counts(teamA, teamB):\n",
    "    # Write your code here\n",
    "    b = len(teamB)\n",
    "    a = len(teamA)\n",
    "    \n",
    "    answer = []\n",
    "    \n",
    "    for i in range(len(teamB)):\n",
    "        sum = 0\n",
    "        for j in range(len(teamA)):            \n",
    "            if teamA[j] <= teamB[i]:\n",
    "                sum = sum + 1  \n",
    "            else:\n",
    "                sum = sum + 0\n",
    "        answer.append(sum)\n",
    "    print (answer)\n",
    "\n",
    "counts(teamA, teamB)"
   ]
  },
  {
   "cell_type": "code",
   "execution_count": 67,
   "metadata": {},
   "outputs": [
    {
     "name": "stdout",
     "output_type": "stream",
     "text": [
      "[2, 4, 5, 8, 10]\n"
     ]
    },
    {
     "data": {
      "text/plain": [
       "[3]"
      ]
     },
     "execution_count": 67,
     "metadata": {},
     "output_type": "execute_result"
    }
   ],
   "source": [
    "\n",
    "teamA = [2, 10, 5, 4, 8]\n",
    "\n",
    "teamB = [3, 1, 7, 8]\n",
    "\n",
    "def counts(teamA, teamB):\n",
    "    answer = []\n",
    "    teamA = sorted(teamA)\n",
    "    print(teamA)\n",
    "\n",
    "    for i in range(len(teamB)):\n",
    "        for j in range(len(teamA)):\n",
    "            if teamB[i] == teamA[j]:\n",
    "                idx = teamA.index(teamA[j])\n",
    "                num = len(teamA[:idx])\n",
    "                answer.append(num)\n",
    "\n",
    "    return answer\n",
    "    # print(answer)    \n",
    "\n",
    "counts(teamA, teamB)"
   ]
  },
  {
   "cell_type": "code",
   "execution_count": null,
   "metadata": {},
   "outputs": [],
   "source": [
    "#Binary search \n",
    "\n"
   ]
  },
  {
   "cell_type": "markdown",
   "metadata": {},
   "source": [
    "Goldman Sachs practice"
   ]
  },
  {
   "cell_type": "code",
   "execution_count": 85,
   "metadata": {},
   "outputs": [
    {
     "ename": "IndexError",
     "evalue": "pop index out of range",
     "output_type": "error",
     "traceback": [
      "\u001b[1;31m---------------------------------------------------------------------------\u001b[0m",
      "\u001b[1;31mIndexError\u001b[0m                                Traceback (most recent call last)",
      "\u001b[1;32m<ipython-input-85-9164fb959564>\u001b[0m in \u001b[0;36m<module>\u001b[1;34m\u001b[0m\n\u001b[0;32m     10\u001b[0m \u001b[1;33m\u001b[0m\u001b[0m\n\u001b[0;32m     11\u001b[0m \u001b[1;33m\u001b[0m\u001b[0m\n\u001b[1;32m---> 12\u001b[1;33m \u001b[0marraySpecialProd\u001b[0m\u001b[1;33m(\u001b[0m\u001b[0marr\u001b[0m\u001b[1;33m)\u001b[0m\u001b[1;33m\u001b[0m\u001b[1;33m\u001b[0m\u001b[0m\n\u001b[0m",
      "\u001b[1;32m<ipython-input-85-9164fb959564>\u001b[0m in \u001b[0;36marraySpecialProd\u001b[1;34m(arr)\u001b[0m\n\u001b[0;32m      6\u001b[0m     \u001b[0mi\u001b[0m \u001b[1;33m=\u001b[0m \u001b[1;36m0\u001b[0m\u001b[1;33m\u001b[0m\u001b[1;33m\u001b[0m\u001b[0m\n\u001b[0;32m      7\u001b[0m     \u001b[1;32mfor\u001b[0m \u001b[0mi\u001b[0m \u001b[1;32min\u001b[0m \u001b[0mrange\u001b[0m\u001b[1;33m(\u001b[0m\u001b[0mlen\u001b[0m\u001b[1;33m(\u001b[0m\u001b[0marr\u001b[0m\u001b[1;33m)\u001b[0m\u001b[1;33m-\u001b[0m\u001b[1;36m1\u001b[0m\u001b[1;33m)\u001b[0m\u001b[1;33m:\u001b[0m\u001b[1;33m\u001b[0m\u001b[1;33m\u001b[0m\u001b[0m\n\u001b[1;32m----> 8\u001b[1;33m         \u001b[0mtemp\u001b[0m \u001b[1;33m=\u001b[0m \u001b[0marr\u001b[0m\u001b[1;33m.\u001b[0m\u001b[0mpop\u001b[0m\u001b[1;33m(\u001b[0m\u001b[0mi\u001b[0m\u001b[1;33m)\u001b[0m\u001b[1;33m\u001b[0m\u001b[1;33m\u001b[0m\u001b[0m\n\u001b[0m\u001b[0;32m      9\u001b[0m     \u001b[0mprint\u001b[0m\u001b[1;33m(\u001b[0m\u001b[0mtemp\u001b[0m\u001b[1;33m)\u001b[0m\u001b[1;33m\u001b[0m\u001b[1;33m\u001b[0m\u001b[0m\n\u001b[0;32m     10\u001b[0m \u001b[1;33m\u001b[0m\u001b[0m\n",
      "\u001b[1;31mIndexError\u001b[0m: pop index out of range"
     ]
    }
   ],
   "source": [
    "arr = [1, 3, 2, 4, 5]\n",
    "\n",
    "def arraySpecialProd(arr):\n",
    "    answer = []\n",
    "    temp = []\n",
    "    i = 0\n",
    "    for i in range(len(arr)-1):\n",
    "        temp = arr.pop(i)\n",
    "    print(temp)\n",
    "    \n",
    "\n",
    "arraySpecialProd(arr)"
   ]
  },
  {
   "cell_type": "code",
   "execution_count": 7,
   "metadata": {},
   "outputs": [
    {
     "name": "stdout",
     "output_type": "stream",
     "text": [
      "3\n",
      "2\n",
      "1\n",
      "0\n",
      "<class 'int'>\n"
     ]
    }
   ],
   "source": [
    "\n",
    "for i in reversed(range(4)):\n",
    "    print (i)\n"
   ]
  },
  {
   "cell_type": "code",
   "execution_count": 33,
   "metadata": {},
   "outputs": [
    {
     "name": "stdout",
     "output_type": "stream",
     "text": [
      "18.0 5\n",
      "9.0 8\n",
      "The number of ways to reach ${sum} is 2\n"
     ]
    }
   ],
   "source": [
    "\n",
    "def sumConsecutiveNum(sum):\n",
    "    count = 0\n",
    "    n = 2\n",
    "    while (2 * sum) + n - (n**2) > 0:\n",
    "        a = ((2 * sum) + n - (n**2))/(2*n)\n",
    "\n",
    "        if (a == int(a)):\n",
    "            print(a,n)\n",
    "            count += 1\n",
    "\n",
    "        n += 1\n",
    "\n",
    "    return (count)\n",
    "            \n",
    "print (\"The number of ways to reach ${sum} is %d\" %sumConsecutiveNum(100))\n"
   ]
  },
  {
   "cell_type": "code",
   "execution_count": 13,
   "metadata": {},
   "outputs": [
    {
     "name": "stdout",
     "output_type": "stream",
     "text": [
      "Counter({3: 4, 1: 2, 2: 2})\n",
      "4\n"
     ]
    }
   ],
   "source": [
    "from collections import Counter\n",
    "def equalizeArray(arr):\n",
    "    # Write your code here\n",
    "    arr_dict = Counter(arr)\n",
    "    print(arr_dict)\n",
    "    max_key = max(arr_dict, key=arr_dict.get)\n",
    "    count = 0\n",
    "    \n",
    "    for i in range(len(arr)):\n",
    "        if arr[i] != max_key:\n",
    "            count += 1\n",
    "    return count\n",
    "\n",
    "arr = [1, 2, 3, 1, 2, 3, 3, 3]\n",
    "print(equalizeArray(arr))"
   ]
  },
  {
   "cell_type": "code",
   "execution_count": null,
   "metadata": {},
   "outputs": [],
   "source": []
  }
 ],
 "metadata": {
  "kernelspec": {
   "display_name": "Python 3.10.2 64-bit",
   "language": "python",
   "name": "python3"
  },
  "language_info": {
   "codemirror_mode": {
    "name": "ipython",
    "version": 3
   },
   "file_extension": ".py",
   "mimetype": "text/x-python",
   "name": "python",
   "nbconvert_exporter": "python",
   "pygments_lexer": "ipython3",
   "version": "3.10.2"
  },
  "orig_nbformat": 4,
  "vscode": {
   "interpreter": {
    "hash": "d180a0b0cf8d11119483137ac42a1edf0a1f390b408f7acdb5cb7b7eb5103aff"
   }
  }
 },
 "nbformat": 4,
 "nbformat_minor": 2
}
