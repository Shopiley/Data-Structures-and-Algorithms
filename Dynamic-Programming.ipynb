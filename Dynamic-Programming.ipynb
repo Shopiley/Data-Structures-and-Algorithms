{
 "cells": [
  {
   "cell_type": "markdown",
   "metadata": {},
   "source": [
    "### Memoization\n",
    "\n",
    "reduces time complexity from O(2^n) exponential to O(n) linear"
   ]
  },
  {
   "cell_type": "code",
   "execution_count": 1,
   "metadata": {},
   "outputs": [
    {
     "name": "stdout",
     "output_type": "stream",
     "text": [
      "34\n"
     ]
    }
   ],
   "source": [
    "def fib(n, memo={}):\n",
    "    if n in memo:\n",
    "        return memo[n]\n",
    "    if (n <= 2):  \n",
    "        return 1\n",
    "    memo[n] = fib(n-1, memo) + fib(n-2, memo)\n",
    "    return memo[n]\n",
    "\n",
    "\n",
    "print(fib(9))"
   ]
  },
  {
   "cell_type": "code",
   "execution_count": 11,
   "metadata": {},
   "outputs": [
    {
     "name": "stdout",
     "output_type": "stream",
     "text": [
      "3\n",
      "126\n",
      "2333606220\n"
     ]
    }
   ],
   "source": [
    "def gridTraveler(m, n, memo = {}):\n",
    "    key = (m,n)\n",
    "\n",
    "    if key in memo:\n",
    "        return memo[key]\n",
    "\n",
    "    if (m == 0) or (n == 0):\n",
    "        return 0\n",
    "    \n",
    "    if (m == 1) and (n == 1):\n",
    "        return 1\n",
    "    \n",
    "    memo[key] = gridTraveler(m-1, n, memo) + gridTraveler(m, n-1, memo)\n",
    "    return memo[key]\n",
    "\n",
    "print(gridTraveler(2, 3))\n",
    "print(gridTraveler(5, 6))\n",
    "print(gridTraveler(18, 18))\n",
    "\n",
    "\n",
    "\"\"\"\n",
    "Time complexity: O(m*n)\n",
    "Explanation: There are about m possibilities for m=4: {0, 1, 2, 3, 4}\n",
    "and about n possiblities for n=3: {0, 1, 2, 3}, plus duplicate explorations would be minimized thanks to our memo dictionary\n",
    "so there are m * n possible combinations/moves to make\n",
    "\n",
    "Initial non-memoized solution TC was O(2^(n+m))\n",
    "\n",
    "Space complexity for both: O(n + m)\n",
    "\"\"\"\n"
   ]
  },
  {
   "cell_type": "markdown",
   "metadata": {},
   "source": [
    "Alvin's Memoization Recipe\n",
    "- Make it work\n",
    "    - Visualize the problem as a tree: nodes are the problems (data bout the problem, aka arguemtns) and as you draw edges, you should be shrinking the problem size e.g decrementing the values of n\n",
    "    - implement the tree using recursion: the leaves are your base cases, each branch is your recursive call\n",
    "    - test it\n",
    "\n",
    "- Make it efficient (pretty methodical)\n",
    "    - add a memo object\n",
    "    - add a base case to return memo values (memo fetching logic) i.e if key in memo...\n",
    "    - store return values into the memo (memo catching logic)\n",
    "\n",
    "\n"
   ]
  },
  {
   "cell_type": "code",
   "execution_count": 8,
   "metadata": {},
   "outputs": [
    {
     "name": "stdout",
     "output_type": "stream",
     "text": [
      "True\n",
      "False\n"
     ]
    }
   ],
   "source": [
    "def canSum(targetSum, numbers):\n",
    "    # base case 1\n",
    "    if targetSum == 0:\n",
    "        return True\n",
    "    \n",
    "    # base case 2\n",
    "    if targetSum < 0:\n",
    "        return False\n",
    "    \n",
    "    for num in numbers:\n",
    "        remainder = targetSum - num\n",
    "        if canSum(remainder, numbers) == True:\n",
    "            return True\n",
    "\n",
    "    return False\n",
    "    \n",
    "\n",
    "print(canSum(7, [5, 3, 4, 7])) # True\n",
    "print(canSum(7, [2, 4]))  # False\n",
    "\n",
    "\n",
    "\"\"\"\n",
    "m = target sum\n",
    "n = array length\n",
    "\n",
    "time complexity: O(n^m)\n",
    "space complexity: O(m)\n",
    "\"\"\"\n",
    "    "
   ]
  },
  {
   "cell_type": "code",
   "execution_count": 9,
   "metadata": {},
   "outputs": [
    {
     "name": "stdout",
     "output_type": "stream",
     "text": [
      "True\n",
      "False\n",
      "False\n"
     ]
    }
   ],
   "source": [
    "def canSum(targetSum, numbers, memo = {}):\n",
    "\n",
    "    if targetSum in memo:\n",
    "        return memo[targetSum]\n",
    "    \n",
    "    # base case 1\n",
    "    if targetSum == 0:\n",
    "        return True\n",
    "    \n",
    "    # base case 2\n",
    "    if targetSum < 0:\n",
    "        return False\n",
    "    \n",
    "    for num in numbers:\n",
    "        remainder = targetSum - num\n",
    "        memo[remainder] = canSum(remainder, numbers)\n",
    "        if memo[remainder] == True:\n",
    "            return True\n",
    "\n",
    "    return False\n",
    "    \n",
    "# memo = {targetSum: bool}\n",
    "print(canSum(7, [5, 3, 4, 7])) # True\n",
    "print(canSum(7, [2, 4]))  # False\n",
    "print(canSum(300, [7, 14]))  # False\n",
    "\n",
    "\n",
    "\"\"\"\n",
    "m = target sum\n",
    "n = array length\n",
    "\n",
    "time complexity: O(n*m)\n",
    "space complexity: O(m)\n",
    "\"\"\""
   ]
  },
  {
   "cell_type": "code",
   "execution_count": 39,
   "metadata": {},
   "outputs": [
    {
     "name": "stdout",
     "output_type": "stream",
     "text": [
      "[4, 3]\n",
      "None\n",
      "[3, 2, 2]\n"
     ]
    }
   ],
   "source": [
    "def howSum(targetSum, numbers):\n",
    "    # base case 1\n",
    "    if targetSum == 0:\n",
    "        return []\n",
    "    \n",
    "    # base case 2\n",
    "    if targetSum < 0:\n",
    "        return None\n",
    "    \n",
    "    for num in numbers:\n",
    "        remainder = targetSum - num\n",
    "        result_so_far = howSum(remainder, numbers) \n",
    "        \n",
    "        if result_so_far != None:\n",
    "            return result_so_far + [num]\n",
    "\n",
    "    return None\n",
    "\n",
    "\"\"\"\n",
    "m = targetSum, n = length of array\n",
    "time complexity: O(n^m * m) exponential\n",
    "space: O(m)\n",
    "\"\"\"\n",
    "\n",
    "print(howSum(7, [5, 3, 4, 7])) # [4, 3]\n",
    "print(howSum(7, [2, 4]))  # None\n",
    "print(howSum(7, [2, 3]))  # [3, 2, 2]\n",
    "\n"
   ]
  },
  {
   "cell_type": "code",
   "execution_count": 69,
   "metadata": {},
   "outputs": [
    {
     "name": "stdout",
     "output_type": "stream",
     "text": [
      "[4, 3]\n",
      "None\n",
      "[3, 2, 2]\n",
      "None\n"
     ]
    }
   ],
   "source": [
    "def howSum(targetSum, numbers, memo = None):\n",
    "    if memo is None:\n",
    "        memo = {}\n",
    "\n",
    "    if targetSum in memo:\n",
    "        return memo[targetSum]\n",
    "    \n",
    "    # base case 1\n",
    "    if targetSum == 0:\n",
    "        return []\n",
    "    \n",
    "    # base case 2\n",
    "    if targetSum < 0:\n",
    "        return None\n",
    "    \n",
    "    for num in numbers:\n",
    "        remainder = targetSum - num\n",
    "        result_so_far = howSum(remainder, numbers, memo) \n",
    "\n",
    "        if result_so_far is not None:\n",
    "            memo[targetSum] = result_so_far + [num]\n",
    "            return memo[targetSum]\n",
    "           \n",
    "    memo[targetSum] = None\n",
    "    return None\n",
    "\n",
    "\"\"\"\n",
    "m = targetSum\n",
    "n = len(numbers)\n",
    "time complexity: O(n*m*m) = O(n*m^2) polynomial\n",
    "space: O(m*m)\n",
    "\"\"\"\n",
    "\n",
    "print(howSum(7, [5, 3, 4, 7])) # [4, 3]\n",
    "print(howSum(7, [2, 4]))  # None\n",
    "print(howSum(7, [2, 3]))  # [3, 2, 2]\n",
    "print(howSum(300, [7, 14]))"
   ]
  },
  {
   "cell_type": "code",
   "execution_count": 64,
   "metadata": {},
   "outputs": [
    {
     "name": "stdout",
     "output_type": "stream",
     "text": [
      "[7]\n",
      "[7, 8]\n",
      "[7, 8, 0]\n",
      "[7, 8, 0, 1]\n"
     ]
    }
   ],
   "source": [
    "def test(num, arr = []):\n",
    "    arr.append(num)\n",
    "    return arr\n",
    "\n",
    "print(test(7)) # Expected: [7]. Actual: [7].\n",
    "print(test(8)) # Expected: [8]. Actual: [7, 8].\n",
    "print(test(0)) # Expected: [0]. Actual: [7, 8, 0].\n",
    "print(test(1)) # Expected: [1]. Actual: [7, 8, 0, 1]."
   ]
  },
  {
   "cell_type": "markdown",
   "metadata": {},
   "source": [
    "### Tabulation\n"
   ]
  },
  {
   "cell_type": "code",
   "execution_count": 87,
   "metadata": {},
   "outputs": [
    {
     "name": "stdout",
     "output_type": "stream",
     "text": [
      "8\n",
      "13\n",
      "21\n",
      "12586269025\n"
     ]
    }
   ],
   "source": [
    "\n",
    "def fib(n):\n",
    "    table = [0] * (n+1)\n",
    "    \n",
    "    table[1] = 1\n",
    "\n",
    "    for i in range(0, n):\n",
    "        table[i+1] += table[i]\n",
    "\n",
    "        if i+2 <= n:\n",
    "            table[i+2] += table[i]\n",
    "\n",
    "    return table[n]\n",
    "\n",
    "print(fib(6))   #8\n",
    "print(fib(7))   #13\n",
    "print(fib(8))   #21\n",
    "print(fib(50))  #12586269025"
   ]
  },
  {
   "cell_type": "code",
   "execution_count": 97,
   "metadata": {},
   "outputs": [
    {
     "name": "stdout",
     "output_type": "stream",
     "text": [
      "1\n",
      "3\n",
      "3\n",
      "6\n",
      "2333606220\n"
     ]
    }
   ],
   "source": [
    "def gridTraveler(r, c):\n",
    "    table = [[0 for _ in range(c+1)] for _ in range(r+1)]\n",
    "\n",
    "    # base case\n",
    "    table[1][1] = 1\n",
    " \n",
    "    for i in range(r+1):\n",
    "        for j in range(c+1):\n",
    "            current = table[i][j]\n",
    "            if (i+1 <= r): table[i+1][j] += current\n",
    "            if (j+1 <= c): table[i][j+1] += current\n",
    "\n",
    "    return (table[r][c])\n",
    "\n",
    "print(gridTraveler(2, 3))   #1\n",
    "print(gridTraveler(3, 2))   #3\n",
    "print(gridTraveler(1, 1))   #3\n",
    "print(gridTraveler(3, 3))   #6\n",
    "print(gridTraveler(18, 18)) #2333606220"
   ]
  },
  {
   "cell_type": "markdown",
   "metadata": {},
   "source": [
    "### Tabulation\n",
    "\n",
    "- Visualize the problem as a table\n",
    "- size the table based on the inputs to the problem\n",
    "- initialize the table with default values e.g 0, true/false\n",
    "- seed the trivial answer into the table (base case)\n",
    "- iterate through the table\n",
    "- fill further positions based on the current position (figure out the options you have at eacch point based on the problem)"
   ]
  },
  {
   "cell_type": "code",
   "execution_count": 102,
   "metadata": {},
   "outputs": [
    {
     "name": "stdout",
     "output_type": "stream",
     "text": [
      "True\n",
      "True\n",
      "False\n",
      "True\n",
      "False\n"
     ]
    }
   ],
   "source": [
    "def canSum(targetSum, numbers):\n",
    "    table = [False] * (targetSum+1)\n",
    "\n",
    "    table[0] = True\n",
    "\n",
    "    for i in range(targetSum+1):\n",
    "        if (table[i] == True):\n",
    "            for num in numbers:\n",
    "                if (i+num) <= targetSum: table[i+num] = True\n",
    "\n",
    "    return table[targetSum]\n",
    "\n",
    "print(canSum(7, [2, 3]))    #True\n",
    "print(canSum(7, [5, 3, 4, 7]))  #True\n",
    "print(canSum(7, [2, 4]))    #False\n",
    "print(canSum(8, [2, 3, 5])) #True\n",
    "print(canSum(300, [7, 14])) #False"
   ]
  },
  {
   "cell_type": "code",
   "execution_count": 118,
   "metadata": {},
   "outputs": [
    {
     "name": "stdout",
     "output_type": "stream",
     "text": [
      "[3, 2, 2]\n",
      "[4, 3]\n",
      "None\n",
      "[2, 2, 2, 2]\n",
      "None\n"
     ]
    }
   ],
   "source": [
    "def howSum(targetSum, numbers):\n",
    "    table = [None] * (targetSum+1)\n",
    "\n",
    "    table[0] = []\n",
    "\n",
    "    for i in range(targetSum+1):\n",
    "        if (table[i] != None):\n",
    "            for num in numbers:\n",
    "                if (i+num) <= targetSum: table[i+num] = table[i] + [num]\n",
    "    return table[targetSum]\n",
    "\n",
    "print(howSum(7, [2, 3]))    #[3, 2, 2]\n",
    "print(howSum(7, [5, 3, 4, 7]))  #[4, 3]\n",
    "print(howSum(7, [2, 4]))    #None\n",
    "print(howSum(8, [2, 3, 5])) #[2, 2, 2, 2]\n",
    "print(howSum(300, [7, 14])) #None"
   ]
  },
  {
   "cell_type": "code",
   "execution_count": 128,
   "metadata": {},
   "outputs": [
    {
     "name": "stdout",
     "output_type": "stream",
     "text": [
      "[7]\n",
      "[3, 5]\n",
      "[4, 4]\n",
      "[25, 25, 25, 25]\n"
     ]
    }
   ],
   "source": [
    "def bestSum(targetSum, numbers):\n",
    "    table = [None] * (targetSum+1)\n",
    "\n",
    "    table[0] = []\n",
    "\n",
    "    for i in range(targetSum+1):\n",
    "        if (table[i] != None):\n",
    "\n",
    "            for num in numbers:\n",
    "                if (i+num) <= targetSum: \n",
    "                    new_combo = table[i] + [num]\n",
    "\n",
    "                    #keep shorter combinatinos over longer combinations\n",
    "                    if table[i+num] == None or len(table[i+num]) > len(new_combo):\n",
    "                        table[i+num] = new_combo\n",
    "    return table[targetSum]\n",
    "\n",
    "\n",
    "print(bestSum(7, [5, 3, 4, 7]))  #[7]   \n",
    "print(bestSum(8, [2, 3, 5])) #[3, 5] \n",
    "print(bestSum(8, [1, 4, 5])) #[4, 4]\n",
    "print(bestSum(100, [25, 1, 2, 5]))    #[25, 25, 25, 25]"
   ]
  },
  {
   "cell_type": "code",
   "execution_count": 133,
   "metadata": {},
   "outputs": [
    {
     "name": "stdout",
     "output_type": "stream",
     "text": [
      "True\n",
      "False\n",
      "True\n",
      "False\n"
     ]
    }
   ],
   "source": [
    "def canConstruct(target, wordBank):\n",
    "    table = [False]*(len(target)+1)\n",
    "\n",
    "    table[0] = True\n",
    "\n",
    "    for i in range(len(table)):\n",
    "        if table[i] == True:\n",
    "            for word in wordBank:\n",
    "                if word == target[i: i+len(word)]:\n",
    "                    table[i+len(word)] = True\n",
    "\n",
    "    return table[len(target)]\n",
    "\n",
    "print(canConstruct(\"abcdef\", [\"ab\", \"abc\", \"cd\", \"def\", \"abcd\"]))   # True\n",
    "print(canConstruct(\"skateboard\", [\"bo\", \"rd\", \"ate\", \"t\", \"ska\", \"sk\", \"boar\"]))    # False\n",
    "print(canConstruct(\"enterpotentpot\", [\"a\", \"p\", \"ent\", \"enter\", \"ot\", \"o\", \"t\"]))   # True\n",
    "print(canConstruct(\"abcdef\", [\"eeeeeeeeeeeeeeeeeeeeeeeeeeeeeeeeeeeef\", \"e\", \"ee\", \"eee\", \"eeee\", \"eeeee\", \"eeeeee\"]))   # False"
   ]
  },
  {
   "cell_type": "code",
   "execution_count": null,
   "metadata": {},
   "outputs": [],
   "source": []
  }
 ],
 "metadata": {
  "kernelspec": {
   "display_name": "Python 3",
   "language": "python",
   "name": "python3"
  },
  "language_info": {
   "codemirror_mode": {
    "name": "ipython",
    "version": 3
   },
   "file_extension": ".py",
   "mimetype": "text/x-python",
   "name": "python",
   "nbconvert_exporter": "python",
   "pygments_lexer": "ipython3",
   "version": "3.11.2"
  },
  "orig_nbformat": 4
 },
 "nbformat": 4,
 "nbformat_minor": 2
}
