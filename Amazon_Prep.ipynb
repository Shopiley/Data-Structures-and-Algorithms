{
 "cells": [
  {
   "cell_type": "markdown",
   "metadata": {},
   "source": [
    "There are n items, each associated with 2 positive values a[i] and b[i]. There are infinitely many items of each type numbered from 1 to infinity. And the item numbered j of type i has a cost of a[i] + (j - 1) * b[i] units.\n",
    "\n",
    "Determine the minimum possible cost to purchase exactly m items.\n",
    "\n",
    "Ex 1:\n",
    "n = 3, a= [2,1,1], b = [1,2,3], m = 4\n",
    "\n",
    "Total min cost to purcase = 1 (i=1, j=1) + 1 (i=2, j=1) + 2(i=0, j=1) + 3(i=0, j = 2) = 7"
   ]
  },
  {
   "cell_type": "code",
   "execution_count": null,
   "metadata": {
    "vscode": {
     "languageId": "plaintext"
    }
   },
   "outputs": [],
   "source": []
  },
  {
   "cell_type": "markdown",
   "metadata": {},
   "source": [
    "Given a list of numbers , it has to be reduced by using following strategy\n",
    "take pair of largest number (same number) , discard 1 number and add half of that in the list (Repeat till possible)\n",
    "\n",
    "While looking for online assessment questions I remember I saw this somewhere but now I don't remember where , if you found exact question that would be great\n",
    "\n",
    "output should be an array of same size with final states of the numbers for eg :\n",
    "Input : [6,2,6,4,4] should output:[-1-1,3,-1,1]\n",
    "\n",
    "-1 means number is discarded"
   ]
  },
  {
   "cell_type": "code",
   "execution_count": null,
   "metadata": {
    "vscode": {
     "languageId": "plaintext"
    }
   },
   "outputs": [],
   "source": []
  },
  {
   "cell_type": "markdown",
   "metadata": {},
   "source": [
    "The question was to find maximum number upto that index in an array where an array will be given of posiive and negative numbers , positive means that the number has been added and negative means number has been remove for eg\n",
    "\n",
    "[6,1,8,-8,6,-6,-6] should output [6,6,8,6,6,6,1]\n",
    "for index 0 : 6 is maximum number appearing once\n",
    "index 1 : still 6\n",
    "index 2 : 8\n",
    "index 3 : 6 because -8 means 8 has been removed from valid list\n",
    "index 4 : 6 now 6 added twice\n",
    "index 5 : 6 after -6 still one 6 is left\n",
    "index 6 : 1 after -6 both 6 are removed and 1 is left as max"
   ]
  },
  {
   "cell_type": "code",
   "execution_count": null,
   "metadata": {},
   "outputs": [],
   "source": [
    "from collections import deque\n",
    "\n",
    "def BFS(graph, start, end):\n",
    "    queue = deque(start)\n",
    "    visited = set()\n",
    "\n",
    "    while queue:\n",
    "\n",
    "        node = queue.popleft()\n",
    "\n",
    "        if node == end:\n",
    "                return (\"Found\")\n",
    "\n",
    "        for neighbour in graph[node]:\n",
    "            if neighbour not in visited:\n",
    "                queue.append(neighbour)\n",
    "                visited.add(neighbour) # if something has been added to the queue, then it should be marked as visited at that point not when it is being explored\n",
    "            \n",
    "            \n",
    "    return False\n"
   ]
  }
 ],
 "metadata": {
  "language_info": {
   "name": "python"
  },
  "orig_nbformat": 4
 },
 "nbformat": 4,
 "nbformat_minor": 2
}
