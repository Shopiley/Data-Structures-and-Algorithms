{
 "cells": [
  {
   "cell_type": "markdown",
   "metadata": {},
   "source": [
    "## SINGLY LINKED LIST\n",
    "\n",
    "###### Funfact: List node/objects are created in the heap but their memory locations are stored in the stack *"
   ]
  },
  {
   "cell_type": "code",
   "execution_count": null,
   "metadata": {},
   "outputs": [],
   "source": [
    "class Node:\n",
    "    def __init__(self, data):\n",
    "        self.data = data\n",
    "        self.next = None"
   ]
  },
  {
   "cell_type": "code",
   "execution_count": null,
   "metadata": {},
   "outputs": [],
   "source": [
    "class LinkedList:\n",
    "    def __init__(self):\n",
    "        self.head = None"
   ]
  },
  {
   "cell_type": "code",
   "execution_count": null,
   "metadata": {},
   "outputs": [],
   "source": [
    "\n",
    "# creating the linked list object that would initialize the head as None \n",
    "# (meaning that the linked list is empty)\n",
    "llist = LinkedList()\n",
    "\n",
    "#creating the nodes\n",
    "llist.head = Node(10)   #pointing the head to node 10\n",
    "middle = Node(20)\n",
    "last = Node(30)\n",
    "\n",
    "#linking the nodes: storing the node addresses in the pointers\n",
    "llist.head.next = middle\n",
    "middle.next = last\n",
    "# since not specified, naturally node 'last' will point to None\n"
   ]
  },
  {
   "cell_type": "markdown",
   "metadata": {},
   "source": [
    "##### Printing the data in each node :"
   ]
  },
  {
   "cell_type": "code",
   "execution_count": null,
   "metadata": {},
   "outputs": [],
   "source": [
    "\n",
    "# printing each node's data\n",
    "def printList(self):\n",
    "    temp = self.head    #why? so that temp can now point to head (or the same node head was pointing to?)\n",
    "    while(temp):        # remains true as long as temp is not none\n",
    "        print(temp.data, end=\" \")   #returns the data in the node temp is pointing to\n",
    "        temp = temp.next    #POINTING to the next node\n",
    "    \n",
    "    #the while loop terminates at the last node where temp = temp.next is None\n",
    "\n"
   ]
  },
  {
   "cell_type": "markdown",
   "metadata": {},
   "source": [
    "#### Inserting a node at the beginning of a linked list \n",
    "##### Time Complexity: 0(1)\n",
    "###### Visit this video for good visual demonstration https://log2base2.com/courses/data-structures-python/inserting-a-node-at-the-beginning-of-a-linked-list-in-python\n"
   ]
  },
  {
   "cell_type": "code",
   "execution_count": null,
   "metadata": {},
   "outputs": [],
   "source": [
    "def addNode(self, val):\n",
    "    newNode = Node(val)\n",
    "    newNode.next = self.head    #next points to the head (imagine if this was the second node and the forst node was head)\n",
    "    self.head = newNode    #make newNode the head of the linked list\n",
    "\n",
    "    # note: each new node you add to the beginning becomes the head"
   ]
  },
  {
   "cell_type": "markdown",
   "metadata": {},
   "source": [
    "#### Inserting a node at the end of a linked list \n",
    "##### Time Complexity: 0(1)\n",
    "###### Visit this video for good visual demonstration https://log2base2.com/courses/data-structures-python/inserting-a-node-at-the-end-of-a-linked-list-in-python\n"
   ]
  },
  {
   "cell_type": "code",
   "execution_count": null,
   "metadata": {},
   "outputs": [],
   "source": [
    "def addLast(self, val):\n",
    "    newNode = Node(val)\n",
    "\n",
    "    if self.head == None:\n",
    "        self.head = newNode\n",
    "\n",
    "    else:\n",
    "        temp =  self.head       #make the starting point head\n",
    "\n",
    "        while (temp.next):\n",
    "            temp = temp.next\n",
    "\n",
    "        temp.next = newNode"
   ]
  },
  {
   "cell_type": "markdown",
   "metadata": {},
   "source": [
    "##### Searching a node "
   ]
  },
  {
   "cell_type": "code",
   "execution_count": null,
   "metadata": {},
   "outputs": [],
   "source": [
    "def searchNode(self, key):\n",
    "\n",
    "    temp = self.head\n",
    "\n",
    "    while(temp != None):\n",
    "        if temp.data == key:\n",
    "            return True\n",
    "        else:\n",
    "            temp = temp.next\n",
    "    \n",
    "    return False"
   ]
  },
  {
   "cell_type": "markdown",
   "metadata": {},
   "source": [
    "##### Deleting a node"
   ]
  },
  {
   "cell_type": "code",
   "execution_count": 1,
   "metadata": {},
   "outputs": [],
   "source": [
    "def deleteNode(self, key):\n",
    "\n",
    "    if self.head.data == key:\n",
    "        self.head = self.head.next\n",
    "\n",
    "    else:\n",
    "        temp = self.head\n",
    "\n",
    "        while (temp.next != None):  #meaning temp is not the last node\n",
    "            if temp.next.data == key:   #temp.next.data instead of temp.data because temp points to the head and we have previously confirmed that the self.head.data != key\n",
    "                temp.next = temp.next.next\n",
    "                break\n",
    "            else:\n",
    "                temp = temp.next    #don't understand, why not temp.next = temp.next.next\n",
    "\n"
   ]
  },
  {
   "cell_type": "markdown",
   "metadata": {},
   "source": [
    "## DOUBLY LINKED LIST"
   ]
  },
  {
   "cell_type": "markdown",
   "metadata": {},
   "source": [
    "##### Inserting a node at the beginning"
   ]
  },
  {
   "cell_type": "code",
   "execution_count": null,
   "metadata": {},
   "outputs": [],
   "source": [
    "def addFirst(self, val):\n",
    "    newNode = Node(val)\n",
    "\n",
    "    if self.head == None:\n",
    "        self.head = newNode\n",
    "\n",
    "    else:\n",
    "        newNode.next = self.head\n",
    "        self.head.prev = newNode\n",
    "        self.head = newNode"
   ]
  },
  {
   "cell_type": "markdown",
   "metadata": {},
   "source": [
    "##### Inserting a node at the end"
   ]
  },
  {
   "cell_type": "code",
   "execution_count": 5,
   "metadata": {},
   "outputs": [],
   "source": [
    "def addLast(self, val):\n",
    "    newNode = Node(val)\n",
    "\n",
    "    if self.head == None:\n",
    "        self.head = newNode\n",
    "\n",
    "    else:\n",
    "        temp = self.head\n",
    "\n",
    "        while(temp.next != None):\n",
    "            temp = temp.next\n",
    "\n",
    "        temp.next = newNode\n",
    "        newNode.prev = temp"
   ]
  },
  {
   "cell_type": "code",
   "execution_count": 3,
   "metadata": {},
   "outputs": [],
   "source": [
    "def forwardTraversal(self):\n",
    "\n",
    "    if self.head is None:\n",
    "        print(\"List is empty\")\n",
    "\n",
    "    temp = self.head\n",
    "\n",
    "    while(temp != None):\n",
    "        print(temp.data, end=\" \")\n",
    "\n",
    "    if temp.next == None:   #not sure about here\n",
    "        last = temp\n",
    "    temp = temp.next\n",
    "\n",
    "\n",
    "def backwardTraversal(self):\n",
    "    temp = last  #from forward traversal\n",
    "    while(temp != None):\n",
    "        print(temp.data, end=\" \")\n",
    "        temp = temp.prev\n",
    "    \n",
    "    "
   ]
  },
  {
   "cell_type": "markdown",
   "metadata": {},
   "source": [
    "#### Search a node in a doubly linked list"
   ]
  },
  {
   "cell_type": "code",
   "execution_count": 6,
   "metadata": {},
   "outputs": [],
   "source": [
    "def searchNode(self, key):\n",
    "    temp = self.head\n",
    "\n",
    "    while (temp != None):\n",
    "        if temp.data == key:\n",
    "            return True\n",
    "        else:\n",
    "            temp = temp.next\n",
    "\n",
    "    return False"
   ]
  },
  {
   "cell_type": "markdown",
   "metadata": {},
   "source": [
    "#### Delete a node in a doubly linked list"
   ]
  },
  {
   "cell_type": "code",
   "execution_count": null,
   "metadata": {},
   "outputs": [],
   "source": [
    "def deleteNode(self, key):\n",
    "\n",
    "    if self.head == None:\n",
    "        print(\"Linked list is entirely empty\")\n",
    "\n",
    "    else:\n",
    "        if self.head.data == key:\n",
    "            self.head = self.head.next\n",
    "            self.head.prev = None\n",
    "\n",
    "    temp = self.head\n",
    "\n",
    "    while (temp.next != None):\n",
    "        if temp.next.data == key:\n",
    "            temp.next = temp.next.next\n",
    "            break\n",
    "        else:\n",
    "            temp = temp.next\n",
    "        \n",
    "    \n",
    "\n",
    "\n"
   ]
  },
  {
   "cell_type": "code",
   "execution_count": 6,
   "metadata": {},
   "outputs": [
    {
     "name": "stdout",
     "output_type": "stream",
     "text": [
      "['a', ' ', 'b', 'l', 'u', 'e', ' ', 'c', 'a', 't', ' ', 'a', 't', 'e', ' ', 't', 'h', 'e', ' ', 'r', 'a', 't']\n"
     ]
    }
   ],
   "source": [
    "sentence = 'a blue cat ate the rat'\n",
    "\n",
    "array = sentence.split()\n",
    "\n",
    "array1 = list(sentence)\n",
    "\n",
    "print(array1)"
   ]
  },
  {
   "cell_type": "code",
   "execution_count": 11,
   "metadata": {},
   "outputs": [
    {
     "name": "stdout",
     "output_type": "stream",
     "text": [
      "False\n"
     ]
    }
   ],
   "source": [
    "\n",
    "def checkStraightLine(coordinates):\n",
    "    \n",
    "    if len(coordinates) == 2:\n",
    "        return True\n",
    "    \n",
    "    [x0, y0] = coordinates[0]\n",
    "    [x1, y1] = coordinates[1]\n",
    "    \n",
    "    for i in range(len(coordinates)):\n",
    "        [x, y] = coordinates[i]\n",
    "        if (y1 - y0)* (x - x0) != (y - y0)*(x1 - x0):\n",
    "            return ('False')\n",
    "    return ('True')\n",
    "\n",
    "coordinates = [[1,2],[2,3],[3,4],[4,5],[5,6],[6,7]]\n",
    "print(checkStraightLine(coordinates))\n"
   ]
  }
 ],
 "metadata": {
  "kernelspec": {
   "display_name": "Python 3.10.2 64-bit",
   "language": "python",
   "name": "python3"
  },
  "language_info": {
   "codemirror_mode": {
    "name": "ipython",
    "version": 3
   },
   "file_extension": ".py",
   "mimetype": "text/x-python",
   "name": "python",
   "nbconvert_exporter": "python",
   "pygments_lexer": "ipython3",
   "version": "3.10.2"
  },
  "orig_nbformat": 4,
  "vscode": {
   "interpreter": {
    "hash": "d180a0b0cf8d11119483137ac42a1edf0a1f390b408f7acdb5cb7b7eb5103aff"
   }
  }
 },
 "nbformat": 4,
 "nbformat_minor": 2
}
