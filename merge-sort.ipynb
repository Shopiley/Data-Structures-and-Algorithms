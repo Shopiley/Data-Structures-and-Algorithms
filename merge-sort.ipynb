{
 "cells": [
  {
   "cell_type": "markdown",
   "metadata": {},
   "source": [
    "https://www.programiz.com/dsa/merge-sort"
   ]
  },
  {
   "cell_type": "markdown",
   "metadata": {},
   "source": [
    "##### 2-way merge"
   ]
  },
  {
   "cell_type": "code",
   "execution_count": 33,
   "metadata": {},
   "outputs": [
    {
     "name": "stdout",
     "output_type": "stream",
     "text": [
      "[2, 5, 8, 9, 12, 15, 17, 18]\n"
     ]
    }
   ],
   "source": [
    "A = [2, 8, 15, 18]\n",
    "m = len(A)\n",
    "\n",
    "B = [5, 9, 12, 17]\n",
    "n = len(B)\n",
    "\n",
    "c = m + n \n",
    "\n",
    "C = [None] * c\n",
    "\n",
    "# C = []\n",
    "\n",
    "def merge(A, B, m, n):\n",
    "    i = 0\n",
    "    j = 0\n",
    "    k = 0\n",
    "\n",
    "    while (i < m and j < n):\n",
    "        if A[i] < B[j]:\n",
    "            C[k] = A[i]\n",
    "            # C.append(A[i])      #can be used instead if C is not initialized with a size \n",
    "            i += 1\n",
    "        \n",
    "        else:\n",
    "            C[k] = B[j]\n",
    "            # C.append(B[j])\n",
    "            j += 1\n",
    "        k += 1\n",
    "\n",
    "    while i < m:\n",
    "        C[k] = A[i]\n",
    "        # C.append(A[i])\n",
    "        i += 1 \n",
    "\n",
    "    while j < n:\n",
    "        C[k] = B[j]\n",
    "        # C.append(B[j])\n",
    "        j += 1\n",
    "    k += 1\n",
    "\n",
    "    return C\n",
    "\n",
    "print(merge(A, B, m, n))\n",
    "        "
   ]
  },
  {
   "cell_type": "markdown",
   "metadata": {},
   "source": [
    "##### Complete Merge-Sort Algorithm"
   ]
  },
  {
   "cell_type": "code",
   "execution_count": 34,
   "metadata": {},
   "outputs": [
    {
     "name": "stdout",
     "output_type": "stream",
     "text": [
      "[2, 3, 4, 5, 6, 7, 8, 9]\n"
     ]
    }
   ],
   "source": [
    "def merge(arr, left, right):\n",
    "    i = j = k = 0\n",
    "\n",
    "    while (i < len(left) and j < len(right)):\n",
    "        if left[i] < right[j]:\n",
    "            arr[k] = left[i]     #arr can be reused since it's content has been splitted and copied into arrays left and right\n",
    "            i += 1\n",
    "\n",
    "        else:\n",
    "            arr[k] = right[j]\n",
    "            j += 1\n",
    "        k += 1          #why here and not under each if-else statement\n",
    "\n",
    "    while (i < len(left)):\n",
    "        arr[k] = left[i]\n",
    "        i += 1\n",
    "        k += 1\n",
    "\n",
    "    while (j < len(right)):\n",
    "        arr[k] = right[j]\n",
    "        j += 1\n",
    "        k += 1\n",
    "\n",
    "    return (arr)\n",
    "\n",
    "def mergeSort(arr):\n",
    "    if len(arr) > 1:\n",
    "        mid = len(arr)//2\n",
    "\n",
    "        left = arr[:mid]\n",
    "        right = arr[mid:]\n",
    "\n",
    "        mergeSort(left)\n",
    "        mergeSort(right)\n",
    "        return merge(arr, left, right) #why do we have to return the whole array?\n",
    "\n",
    "\n",
    "arr = [9, 3, 7, 5, 6, 4, 8, 2]\n",
    "print(mergeSort(arr))\n",
    "\n"
   ]
  },
  {
   "cell_type": "markdown",
   "metadata": {},
   "source": [
    "Leetcode - 88. Merge Sorted Array"
   ]
  },
  {
   "cell_type": "code",
   "execution_count": 36,
   "metadata": {},
   "outputs": [
    {
     "name": "stdout",
     "output_type": "stream",
     "text": [
      "[1, 2, 2, 3, 5, 6]\n"
     ]
    }
   ],
   "source": [
    "def merge(nums1, m, nums2, n): \n",
    "    while (m > 0 and n > 0):\n",
    "        if nums1[m-1] > nums2[n-1]:\n",
    "            nums1[m+n -1] = nums1[m-1]\n",
    "            m -= 1\n",
    "            \n",
    "        else:\n",
    "            nums1[m+n-1] = nums2[n-1]\n",
    "            n -= 1\n",
    "            \n",
    "    while m > 0:\n",
    "        nums1[m+n -1] = nums1[m-1]\n",
    "        m -= 1\n",
    "\n",
    "    while n > 0:\n",
    "        nums1[m+n-1] = nums2[n-1]\n",
    "        n -= 1\n",
    "\n",
    "    return nums1\n",
    "\n",
    "nums1 = [1,2,3,0,0,0]\n",
    "m = 3\n",
    "nums2 = [2,5,6]\n",
    "n = 3\n",
    "print(merge(nums1, m, nums2, n))"
   ]
  },
  {
   "cell_type": "code",
   "execution_count": 3,
   "metadata": {},
   "outputs": [
    {
     "name": "stdout",
     "output_type": "stream",
     "text": [
      "[1, 2, 2, 3, 5, 6]\n"
     ]
    }
   ],
   "source": [
    "def merge(nums1, m, nums2, n):\n",
    "    \"\"\"\n",
    "    Do not return anything, modify nums1 in-place instead.\n",
    "    \"\"\"\n",
    "    i = 0\n",
    "    j = 0\n",
    "    k = 0\n",
    "    \n",
    "    nums = nums1[0:m]\n",
    "    # print(nums)\n",
    "    x = m+n\n",
    "    nums1 = [0] * x\n",
    "    # print(nums1)\n",
    "    # print(nums2)\n",
    "    \n",
    "    while (i < m and j < n):\n",
    "        if nums[i] < nums2[j]:\n",
    "            nums1[k] = nums[i]\n",
    "            # print(nums1[k])\n",
    "            i += 1 \n",
    "        else:\n",
    "            nums1[k] = nums2[j]\n",
    "            # print(nums1[k])\n",
    "            j += 1\n",
    "        k += 1\n",
    "            \n",
    "    #for remaining elements\n",
    "    while i < m:\n",
    "        nums1[k] = nums[i]\n",
    "        i += 1\n",
    "        \n",
    "    while j < n:\n",
    "        nums1[k] = nums2[j]\n",
    "        j += 1            \n",
    "        k += 1\n",
    "    \n",
    "    return nums1\n",
    "\n",
    "nums1 = [1,2,3,0,0,0]\n",
    "m = 3\n",
    "nums2 = [2,5,6]\n",
    "n = 3\n",
    "print(merge(nums1, m, nums2, n))"
   ]
  }
 ],
 "metadata": {
  "kernelspec": {
   "display_name": "Python 3.8.5 ('base')",
   "language": "python",
   "name": "python3"
  },
  "language_info": {
   "codemirror_mode": {
    "name": "ipython",
    "version": 3
   },
   "file_extension": ".py",
   "mimetype": "text/x-python",
   "name": "python",
   "nbconvert_exporter": "python",
   "pygments_lexer": "ipython3",
   "version": "3.8.5"
  },
  "orig_nbformat": 4,
  "vscode": {
   "interpreter": {
    "hash": "0689d36e9cfcac8bafd51449db847906f01f0482f54f10ed80f5bdb4ed4fd8b7"
   }
  }
 },
 "nbformat": 4,
 "nbformat_minor": 2
}
