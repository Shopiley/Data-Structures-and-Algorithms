{
 "cells": [
  {
   "cell_type": "markdown",
   "metadata": {},
   "source": [
    "### Binary Search - a divide and conquer algorithm"
   ]
  },
  {
   "cell_type": "code",
   "execution_count": 17,
   "metadata": {},
   "outputs": [
    {
     "name": "stdout",
     "output_type": "stream",
     "text": [
      "5\n"
     ]
    }
   ],
   "source": [
    "#iterative method\n",
    "\n",
    "nums = [1, 2, 4, 5, 7, 9, 10]\n",
    "target = 9\n",
    "\n",
    "def binarySearch(nums, target):\n",
    "    low = 0\n",
    "    high = len(nums) - 1\n",
    "    \n",
    "    # if nums.count(target) > 0:\n",
    "\n",
    "    while low <= high:\n",
    "\n",
    "        mid = (low + high) // 2\n",
    "\n",
    "        #base case\n",
    "        if target == nums[mid]:\n",
    "            return mid\n",
    "        \n",
    "        elif target < nums[mid]:\n",
    "            high = mid - 1\n",
    "\n",
    "        else:\n",
    "            low = mid + 1\n",
    "\n",
    "    return -1\n",
    "\n",
    "    # else:\n",
    "    #     return -1\n",
    "\n",
    "print(binarySearch(nums, target))\n",
    "\n",
    "\n"
   ]
  },
  {
   "cell_type": "code",
   "execution_count": 19,
   "metadata": {},
   "outputs": [
    {
     "data": {
      "text/plain": [
       "5"
      ]
     },
     "execution_count": 19,
     "metadata": {},
     "output_type": "execute_result"
    }
   ],
   "source": [
    "# faster iterative method\n",
    "def BinarySearch(nums, target):\n",
    "    low = 0\n",
    "    high = len(nums) - 1\n",
    "\n",
    "    while (low < high):\n",
    "        mid = low + ((high - low)//2)   #left mid\n",
    "\n",
    "        if target > nums[mid]:\n",
    "            low = mid + 1\n",
    "        else:\n",
    "            high = mid\n",
    "        \n",
    "    # out of the while loop i.e when low=high or low>high\n",
    "    # if target == nums[low]:\n",
    "    # if target == nums[high]\n",
    "    if low == high:\n",
    "        return low\n",
    "    else:\n",
    "        return -1\n",
    "\n",
    "nums = [1, 2, 4, 5, 7, 9, 10]\n",
    "target = 9\n",
    "\n",
    "BinarySearch(nums, target)\n",
    "\n"
   ]
  },
  {
   "cell_type": "code",
   "execution_count": 1,
   "metadata": {},
   "outputs": [
    {
     "name": "stdout",
     "output_type": "stream",
     "text": [
      "5\n"
     ]
    }
   ],
   "source": [
    "#recursive\n",
    "nums = [1, 2, 4, 5, 7, 9, 10]\n",
    "target = 9\n",
    "\n",
    "def binarySearch(nums, target, low=0, high=len(nums)-1):\n",
    "\n",
    "    # if(low > high):     #base condition1\n",
    "    #     return -1\n",
    "            #or\n",
    "    if nums.count(target) == 0:\n",
    "        return -1\n",
    "\n",
    "    mid = low + (high - low)//2\n",
    "\n",
    "    if target == nums[mid]:     #base condition2\n",
    "        return mid\n",
    "\n",
    "    elif target < nums[mid]:\n",
    "        return binarySearch(nums, target, low, mid-1)\n",
    "    \n",
    "    else:\n",
    "        return binarySearch(nums, target, mid+1, high)\n",
    "\n",
    "print(binarySearch(nums, target))\n"
   ]
  },
  {
   "cell_type": "markdown",
   "metadata": {},
   "source": [
    "#### Bloomberg's football scores question (modified binary search)\n",
    "\n",
    "##### Algorithm: <br> -> sort teamA <br> -> use low, mid and high pointers to move through the array <br> -> think of more edge cases?\n",
    "##### Time Complexity : O(nloga)"
   ]
  },
  {
   "cell_type": "code",
   "execution_count": 1,
   "metadata": {},
   "outputs": [
    {
     "name": "stdout",
     "output_type": "stream",
     "text": [
      "[4, 10]\n"
     ]
    }
   ],
   "source": [
    "teamA = [1, 2, 4, 5, 7, 9, 10, 11, 13, 17]\n",
    "teamB = [6, 17]\n",
    "\n",
    "\n",
    "def footballScores(teamA, teamB):\n",
    "    sorted(teamA)\n",
    "    \n",
    "    res = []\n",
    "\n",
    "    for teamb in teamB:\n",
    "        low = 0\n",
    "        high = len(teamA) - 1\n",
    "        while(low < high):\n",
    "            mid = low + (high - low)//2\n",
    "\n",
    "            if teamA[mid] == teamb:\n",
    "                res.append(mid+1)\n",
    "\n",
    "            elif teamA[mid] < teamb:\n",
    "                low = mid + 1\n",
    "\n",
    "            elif teamA[mid] > teamb:\n",
    "                high = mid - 1\n",
    "\n",
    "        res.append(low+1)\n",
    "    return res\n",
    "\n",
    "print(footballScores(teamA, teamB))"
   ]
  },
  {
   "cell_type": "code",
   "execution_count": 69,
   "metadata": {},
   "outputs": [
    {
     "name": "stdout",
     "output_type": "stream",
     "text": [
      "[]\n"
     ]
    }
   ],
   "source": [
    "\n",
    "teamA = [1, 2, 4, 5, 7, 9, 10, 11, 13, 17]\n",
    "teamB = [6, 17]\n",
    "\n",
    "def footballScores(teamA, teamB):\n",
    "\n",
    "    answers = []\n",
    "\n",
    "    if not teamA or not teamB:\n",
    "        return []\n",
    "\n",
    "    teamA = sorted(teamA)\n",
    "\n",
    "    for i in range(len(teamB)):\n",
    "        low = 0         #could also use low instead and increment by 1 each time\n",
    "        high = len(teamA) - 1\n",
    "        count = 0\n",
    "        while (teamB[i] < teamA[high]):\n",
    "            high -= 1\n",
    "            count += 1\n",
    "        match = (len(teamA) - count)\n",
    "    \n",
    "        answers.append(match)\n",
    "\n",
    "    return answers\n",
    "\n",
    "print(footballScores(teamA, teamB))\n"
   ]
  },
  {
   "cell_type": "code",
   "execution_count": 66,
   "metadata": {},
   "outputs": [
    {
     "name": "stdout",
     "output_type": "stream",
     "text": [
      "[4]\n"
     ]
    }
   ],
   "source": [
    "#not working properly\n",
    "teamA = [1, 2, 4, 5, 7, 9, 10, 11, 13, 17]\n",
    "teamB = [6, 17]\n",
    "\n",
    "def footballScores(teamA, teamB): \n",
    "    res = []\n",
    "    teamA.sort()\n",
    "\n",
    "    for i in teamB:\n",
    "        for j in range(len(teamA)):\n",
    "            if teamA[j] > i:\n",
    "                res.append(j)\n",
    "                break\n",
    "\n",
    "    return res\n",
    "\n",
    "print(footballScores(teamA, teamB))"
   ]
  },
  {
   "cell_type": "code",
   "execution_count": 67,
   "metadata": {},
   "outputs": [
    {
     "name": "stdout",
     "output_type": "stream",
     "text": [
      "[2, 2]\n"
     ]
    }
   ],
   "source": [
    "#not working properly\n",
    "teamA = [1, 2, 4, 5, 7, 9, 10]\n",
    "teamB = [5, 8]\n",
    "\n",
    "def footballScores(teamA, teamB): \n",
    "    res = []\n",
    "    sorted(teamA);   \n",
    "    for i in range(len(teamB)):\n",
    "        l = 0\n",
    "        h = len(teamB)-1\n",
    "        while (l<=h):\n",
    "            mid = l + (h-l)//2\n",
    "            if (teamA[mid]>teamB[i]):\n",
    "                h = mid-1\n",
    "            else:\n",
    "                l=mid+1\n",
    "        res.append(l)\n",
    "    return res\n",
    "\n",
    "print(footballScores(teamA, teamB))"
   ]
  },
  {
   "cell_type": "code",
   "execution_count": 3,
   "metadata": {},
   "outputs": [],
   "source": [
    "\n",
    "def footballScores(teamA, teamB):\n",
    "\n",
    "    if not teamA or not teamB:\n",
    "        return []\n",
    "\n",
    "    teamA = sorted(teamA)\n",
    "\n",
    "    low = 0\n",
    "    high = len(teamA) - 1\n",
    "\n",
    "    for i in range(len(teamB)):\n",
    "        while (low <= high):\n",
    "            mid = low + (high - low)//2\n",
    "            if teamB[i] <= teamA[mid]:\n",
    "                high = mid \n",
    "            else:\n",
    "                low = mid + 1\n",
    "\n",
    "        if high == teamB[i]:\n",
    "            return high\n",
    "        else:\n",
    "            return -1\n"
   ]
  },
  {
   "cell_type": "code",
   "execution_count": 15,
   "metadata": {},
   "outputs": [
    {
     "name": "stdout",
     "output_type": "stream",
     "text": [
      "None\n"
     ]
    }
   ],
   "source": [
    "#not working\n",
    "\n",
    "import math\n",
    "\n",
    "nums = [1, 2, 4, 5, 7, 9, 10]\n",
    "target = 9\n",
    "\n",
    "def search(nums, target):\n",
    "    if nums.count(target) == 0:\n",
    "        return -1\n",
    "    \n",
    "    else:\n",
    "        n = len(nums)\n",
    "        mid = math.floor(n/2)\n",
    "\n",
    "        if target == nums[mid]:\n",
    "            return mid\n",
    "        \n",
    "        elif target < nums[mid]:\n",
    "            nums = nums[:mid]\n",
    "            search(nums, target)\n",
    "            \n",
    "        elif target > nums[mid]:\n",
    "            nums = nums[mid:n]\n",
    "            search(nums, target)\n",
    "\n",
    "print(search(nums, target))"
   ]
  }
 ],
 "metadata": {
  "kernelspec": {
   "display_name": "Python 3.10.2 64-bit",
   "language": "python",
   "name": "python3"
  },
  "language_info": {
   "codemirror_mode": {
    "name": "ipython",
    "version": 3
   },
   "file_extension": ".py",
   "mimetype": "text/x-python",
   "name": "python",
   "nbconvert_exporter": "python",
   "pygments_lexer": "ipython3",
   "version": "3.10.2"
  },
  "orig_nbformat": 4,
  "vscode": {
   "interpreter": {
    "hash": "d180a0b0cf8d11119483137ac42a1edf0a1f390b408f7acdb5cb7b7eb5103aff"
   }
  }
 },
 "nbformat": 4,
 "nbformat_minor": 2
}
